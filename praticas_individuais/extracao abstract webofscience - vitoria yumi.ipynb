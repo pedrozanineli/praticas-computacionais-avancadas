{
 "cells": [
  {
   "cell_type": "code",
   "execution_count": 17,
   "source": [
    "import os\r\n",
    "import numpy as np\r\n",
    "import pandas as pd\r\n",
    "import matplotlib.pyplot as plt\r\n",
    "import random"
   ],
   "outputs": [],
   "metadata": {}
  },
  {
   "cell_type": "markdown",
   "source": [
    "#### Aula 1 - Análise abstracts"
   ],
   "metadata": {}
  },
  {
   "cell_type": "code",
   "execution_count": 4,
   "source": [
    "arqs = os.listdir('../dados')"
   ],
   "outputs": [],
   "metadata": {}
  },
  {
   "cell_type": "code",
   "execution_count": 5,
   "source": [
    "for i,arq in enumerate(arqs):\r\n",
    "    \r\n",
    "    if i == 0:\r\n",
    "        df = pd.read_excel(f'../dados/{arq}')\r\n",
    "        df = df.loc[df['Language'] == 'English']\r\n",
    "    else:\r\n",
    "        aux = pd.read_excel(f'../dados/{arq}')\r\n",
    "        aux = aux.loc[aux['Language'] == 'English']\r\n",
    "        df = pd.concat([df,aux])"
   ],
   "outputs": [],
   "metadata": {
    "tags": []
   }
  },
  {
   "cell_type": "code",
   "execution_count": 6,
   "source": [
    "dic_key={}\r\n",
    "\r\n",
    "for keywords in df['Keywords Plus']:\r\n",
    "    if not isinstance(keywords,float):\r\n",
    "        \r\n",
    "        keywords = keywords.split(' ')\r\n",
    "        \r\n",
    "        for keyword in keywords:\r\n",
    "            if ';' in keyword:\r\n",
    "                keyword = keyword.replace(';','')\r\n",
    "            \r\n",
    "            keyword = keyword.lower()\r\n",
    "            \r\n",
    "            if keyword not in dic_key:\r\n",
    "                dic_key[keyword] = 1\r\n",
    "            else:\r\n",
    "                dic_key[keyword] += 1\r\n",
    "\r\n",
    "dic_key = dict(sorted(dic_key.items(), key=lambda item: item[1]))"
   ],
   "outputs": [],
   "metadata": {}
  },
  {
   "cell_type": "code",
   "execution_count": 7,
   "source": [
    "qtd = 10\r\n",
    "plt.barh(list(dic_key.keys())[-qtd:],list(dic_key.values())[-qtd:],color='purple')\r\n",
    "plt.title(f'{qtd} palavras mais recorrentes nas keywords')\r\n",
    "plt.show()"
   ],
   "outputs": [
    {
     "output_type": "display_data",
     "data": {
      "image/png": "[encoded data removed]",
      "text/plain": [
       "<Figure size 432x288 with 1 Axes>"
      ]
     },
     "metadata": {
      "needs_background": "light"
     }
    }
   ],
   "metadata": {}
  },
  {
   "cell_type": "markdown",
   "source": [
    "#### Aula 2 - Extração dos valores em ms"
   ],
   "metadata": {}
  },
  {
   "cell_type": "code",
   "execution_count": 8,
   "source": [
    "import spacy\r\n",
    "nlp = spacy.load('en_core_web_sm')"
   ],
   "outputs": [],
   "metadata": {}
  },
  {
   "cell_type": "code",
   "execution_count": 9,
   "source": [
    "limite = 20\r\n",
    "count = 0\r\n",
    "lista_vals = []\r\n",
    "\r\n",
    "for abstract in df['Abstract']:\r\n",
    "    if not isinstance(abstract,float):\r\n",
    "        if ' ms ' in abstract:\r\n",
    "            \r\n",
    "            doc = nlp(abstract)\r\n",
    "            # doc = [t for t in doc if not t.is_stop]            \r\n",
    "            \r\n",
    "            ms_indexes = []\r\n",
    "            for t in doc:\r\n",
    "                if t.text=='ms':\r\n",
    "                    ms_indexes.append(t.i)\r\n",
    "                    count+=1\r\n",
    "                    \r\n",
    "            for ms_index in ms_indexes:\r\n",
    "                doc_aux = doc[ms_index-5:ms_index+5]\r\n",
    "                doc_aux = nlp(str(doc_aux))\r\n",
    "                \r\n",
    "                # print(doc_aux)\r\n",
    "                for t in doc_aux:\r\n",
    "                    if t.text=='ms':\r\n",
    "                        check_index = 1\r\n",
    "                        vals = []\r\n",
    "                        while True:\r\n",
    "                            if doc_aux[t.i-check_index].like_num:\r\n",
    "                                vals.append(str(doc_aux[t.i-check_index]))\r\n",
    "                                check_index+=1\r\n",
    "                            elif str(doc_aux[t.i-check_index]) == '/-' or str(doc_aux[t.i-check_index]) == '+' or str(doc_aux[t.i-check_index]) == '-' or str(doc_aux[t.i-check_index]) == 'and' or str(doc_aux[t.i-check_index]) == 'to':\r\n",
    "                                vals.append(str(doc_aux[t.i-check_index]))\r\n",
    "                                check_index+=1\r\n",
    "                            else:\r\n",
    "                                break\r\n",
    "                        # print(vals[::-1])\r\n",
    "                        if len(vals) != 0: lista_vals.append(vals[::-1])        \r\n",
    "        \r\n",
    "        if ' millisecond ' in abstract:\r\n",
    "            \r\n",
    "            doc = nlp(abstract)\r\n",
    "            # doc = [t for t in doc if not t.is_stop]            \r\n",
    "            \r\n",
    "            ms_indexes = []\r\n",
    "            for t in doc:\r\n",
    "                if t.text=='millisecond':\r\n",
    "                    ms_indexes.append(t.i)\r\n",
    "                    count+=1\r\n",
    "                    \r\n",
    "            for ms_index in ms_indexes:\r\n",
    "                doc_aux = doc[ms_index-5:ms_index+5]\r\n",
    "                doc_aux = nlp(str(doc_aux))\r\n",
    "                \r\n",
    "                # print(doc_aux)\r\n",
    "                for t in doc_aux:\r\n",
    "                    if t.text=='millisecond':\r\n",
    "                        check_index = 1\r\n",
    "                        vals = []\r\n",
    "                        while True:\r\n",
    "                            if doc_aux[t.i-check_index].like_num:\r\n",
    "                                vals.append(str(doc_aux[t.i-check_index]))\r\n",
    "                                check_index+=1\r\n",
    "                            elif str(doc_aux[t.i-check_index]) == '/-' or str(doc_aux[t.i-check_index]) == '+' or str(doc_aux[t.i-check_index]) == '-' or str(doc_aux[t.i-check_index]) == 'and' or str(doc_aux[t.i-check_index]) == 'to':\r\n",
    "                                vals.append(str(doc_aux[t.i-check_index]))\r\n",
    "                                check_index+=1\r\n",
    "                            else:\r\n",
    "                                break\r\n",
    "                        # print(vals[::-1])\r\n",
    "                        if len(vals) != 0: lista_vals.append(vals[::-1])"
   ],
   "outputs": [],
   "metadata": {
    "tags": []
   }
  },
  {
   "cell_type": "code",
   "execution_count": 10,
   "source": [
    "inf,sup = [],[]\r\n",
    "\r\n",
    "for val in lista_vals:\r\n",
    "    if 'and' not in val and 'to' not in val:\r\n",
    "        \r\n",
    "        if '+' in val and '/-' in val:\r\n",
    "            if val[0] != '+':\r\n",
    "                # print(val[0],'+/-',val[-1])\r\n",
    "                \r\n",
    "                if ',' in val[0]:\r\n",
    "                    val[0] = val[0].replace(',','.')\r\n",
    "                \r\n",
    "                if ',' in val[-1]:\r\n",
    "                    val[-1] = val[-1].replace(',','.')\r\n",
    "                    \r\n",
    "                inf.append(round(float(val[0])-float(val[-1]),4))\r\n",
    "                sup.append(round(float(val[0])+float(val[-1]),4))\r\n",
    "                \r\n",
    "                # print(f'inf {float(val[0])-float(val[-1])}')\r\n",
    "                # print(f'sup {float(val[0])+float(val[-1])}')\r\n",
    "            # print()\r\n",
    "            \r\n",
    "        # elif '-' in val:\r\n",
    "            # print(val)"
   ],
   "outputs": [],
   "metadata": {}
  },
  {
   "cell_type": "code",
   "execution_count": 11,
   "source": [
    "print('Contagem de ocorrências',count)"
   ],
   "outputs": [
    {
     "output_type": "stream",
     "name": "stdout",
     "text": [
      "Contagem de ocorrências 348\n"
     ]
    }
   ],
   "metadata": {}
  },
  {
   "cell_type": "code",
   "execution_count": 12,
   "source": [
    "plt.hist(inf,bins=100,density=True)\r\n",
    "plt.show()\r\n",
    "plt.hist(inf,bins=500,density=True)\r\n",
    "plt.xlim(0,10)\r\n",
    "plt.show()"
   ],
   "outputs": [
    {
     "output_type": "display_data",
     "data": {
      "image/png": "[encoded data removed]",
      "text/plain": [
       "<Figure size 432x288 with 1 Axes>"
      ]
     },
     "metadata": {
      "needs_background": "light"
     }
    },
    {
     "output_type": "display_data",
     "data": {
      "image/png": "[encoded data removed]",
      "text/plain": [
       "<Figure size 432x288 with 1 Axes>"
      ]
     },
     "metadata": {
      "needs_background": "light"
     }
    }
   ],
   "metadata": {}
  },
  {
   "cell_type": "code",
   "execution_count": 13,
   "source": [
    "plt.hist(sup,bins=100,density=True)\r\n",
    "plt.show()\r\n",
    "plt.hist(sup,bins=500,density=True)\r\n",
    "plt.xlim(0,10)\r\n",
    "plt.show()"
   ],
   "outputs": [
    {
     "output_type": "display_data",
     "data": {
      "image/png": "[encoded data removed]",
      "text/plain": [
       "<Figure size 432x288 with 1 Axes>"
      ]
     },
     "metadata": {
      "needs_background": "light"
     }
    },
    {
     "output_type": "display_data",
     "data": {
      "image/png": "[encoded data removed]",
      "text/plain": [
       "<Figure size 432x288 with 1 Axes>"
      ]
     },
     "metadata": {
      "needs_background": "light"
     }
    }
   ],
   "metadata": {}
  },
  {
   "cell_type": "code",
   "execution_count": 15,
   "source": [
    "for abstract in random.sample(list(df['Abstract'].copy()), 3):\r\n",
    "\r\n",
    "    doc_\r\n",
    "\r\n",
    "doc_parsing = nlp()"
   ],
   "outputs": [
    {
     "output_type": "execute_result",
     "data": {
      "text/plain": [
       "'1. Action potentials of neurones of the ventral part of the guinea-pig periaqueductal grey (PAG) were studied by intracellular recording in a mesencephalic slice preparation maintained in vitro. 2. Fast spikes spontaneously fired last 2.8 +/- 0.6 ms (mean +/- S.D.) and have an amplitude of 72.3 +/- 5.3 mV (n = 28). The neurones could be antidromically activated from the neighbouring white matter and these spikes show an initial segment component that triggers the soma-dendritic spike. These two components were dissociated by hyperpolarization. Action potentials are Na+ dependent and a Ca2+ conductance is responsible for the hump on the falling phase. Hyperpolarization makes hump disappear and a faster rate of rise and fall are seen. Accommodation of the firing threshold is observed in response to depolarizing ramps, which is eliminated with hyperpolarization. 3. High-threshold Ca2+ spikes are evoked in either Na+-free solution or in the presence of tetrodotoxin (TTX). These presumed dendritic action potentials display a fast repolarization and a large after-hyperpolarization (AHP) that prevent repetitive firing. This AHP is mainly generated by Ca2+-dependent K+ conductances. 4. The repolarization of fast action potentials depends on the activation of K+ conductances as well as a Na+ inactivation process. A fast-activated tetraethylammonium (TEA)-sensitive K+ conductance, that could be Ca2+ dependent, and a K+ conductance blocked by apamin seem to be involved in the repolarization. 5. Each fast action potential is followed by a pronounced AHP with two components, an initial fast and a slow decaying phase. Membrane hyperpolarization around -60 mV eliminated the first component and the AHP acquired a plateau-like shape. At -90 mV the AHP was nullified. The slow phase was Ca2+ dependent and an apamin-sensitive K+ conductance is involved in its generation. This conductance may be active during the early part of the AHP, but a fast-activated TEA-sensitive K+ conductance and other voltage-dependent K+ conductances might also be present. A Ca2+ conductance is hypothesized to account for the fast depolarizing change after the AHP peak. 6. A delayed return to the baseline is observed after hyperpolarzing pulses. It is generated by the activation of a transient voltage-dependent K+ conductance that is inactive at resting membrane potential (RMP, around -50 mV). This transient hyperpolarization is abolished by Ca2+ channel blockers and insensitive to high external concentrations of 4-aminopyridine, TEA and Cs+. Pre-pulse tests suggest that this K+ conductance could participate in the repolarization of fast spikes when these are generated from hyperpolarized levels of membrane potential. 7. A depolarizing rebound after hyperpolarizing pulses is commonly seen in PAG neurones. This rebound is abolished by Ca2+ channel blockers and its amplitude and duration depend on the membrane potential reached during the pulse. 8. PAG neurones display, at RMP, spontaneous firing of fast action potentials oscillating at about 5 Hz (5.4 +/- 2.7, n = 28). The frequency depends on the membrane potential. This rhythmic firing seems to be based on intrinsic biophysical properties of these cells and Ca2+ is essential for its generation. 9. Synaptic inputs converging to PAG neurones in the coronal plane from the neighbouring white matter evoke EPSPs and EPSP-IPSPs complexes.'"
      ]
     },
     "metadata": {},
     "execution_count": 15
    }
   ],
   "metadata": {}
  },
  {
   "cell_type": "code",
   "execution_count": null,
   "source": [],
   "outputs": [],
   "metadata": {}
  }
 ],
 "metadata": {
  "kernelspec": {
   "name": "python3",
   "display_name": "Python 3.9.7 64-bit"
  },
  "language_info": {
   "codemirror_mode": {
    "name": "ipython",
    "version": 3
   },
   "file_extension": ".py",
   "mimetype": "text/x-python",
   "name": "python",
   "nbconvert_exporter": "python",
   "pygments_lexer": "ipython3",
   "version": "3.9.7"
  },
  "interpreter": {
   "hash": "ac59ebe37160ed0dfa835113d9b8498d9f09ceb179beaac4002f036b9467c963"
  }
 },
 "nbformat": 4,
 "nbformat_minor": 5
}