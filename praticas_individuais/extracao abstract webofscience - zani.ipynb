{
 "cells": [
  {
   "cell_type": "code",
   "execution_count": 1,
   "id": "6ed4ec3a-ffa1-4dc8-b7e1-163db17d1aca",
   "metadata": {},
   "outputs": [],
   "source": [
    "import os\n",
    "import numpy as np\n",
    "import pandas as pd\n",
    "import matplotlib.pyplot as plt"
   ]
  },
  {
   "cell_type": "markdown",
   "id": "89b50955-0479-4067-ad62-1543410358d8",
   "metadata": {
    "tags": []
   },
   "source": [
    "#### Aula 1 - Análise abstracts"
   ]
  },
  {
   "cell_type": "code",
   "execution_count": 2,
   "id": "c7155a20-a6d7-4ae0-9ca4-5b7d9ef6c9c8",
   "metadata": {},
   "outputs": [],
   "source": [
    "arqs = os.listdir('../dados')"
   ]
  },
  {
   "cell_type": "code",
   "execution_count": 3,
   "id": "e1f99afe-6068-4be7-b89c-0b3c956502cd",
   "metadata": {
    "tags": []
   },
   "outputs": [],
   "source": [
    "for i,arq in enumerate(arqs):\n",
    "    \n",
    "    if i == 0:\n",
    "        df = pd.read_excel(f'../dados/{arq}')\n",
    "        df = df.loc[df['Language'] == 'English']\n",
    "    else:\n",
    "        aux = pd.read_excel(f'../dados/{arq}')\n",
    "        aux = aux.loc[aux['Language'] == 'English']\n",
    "        df = pd.concat([df,aux])"
   ]
  },
  {
   "cell_type": "code",
   "execution_count": 4,
   "id": "274f4020-380f-4f04-8891-1297d73a3465",
   "metadata": {},
   "outputs": [],
   "source": [
    "dic_key={}\n",
    "\n",
    "for keywords in df['Keywords Plus']:\n",
    "    if not isinstance(keywords,float):\n",
    "        \n",
    "        keywords = keywords.split(' ')\n",
    "        \n",
    "        for keyword in keywords:\n",
    "            if ';' in keyword:\n",
    "                keyword = keyword.replace(';','')\n",
    "            \n",
    "            keyword = keyword.lower()\n",
    "            \n",
    "            if keyword not in dic_key:\n",
    "                dic_key[keyword] = 1\n",
    "            else:\n",
    "                dic_key[keyword] += 1\n",
    "\n",
    "dic_key = dict(sorted(dic_key.items(), key=lambda item: item[1]))"
   ]
  },
  {
   "cell_type": "code",
   "execution_count": 5,
   "id": "560a1b7b-34dd-4c41-8d49-57279cff215e",
   "metadata": {},
   "outputs": [
    {
     "data": {
      "image/png": "[encoded data removed]",
      "text/plain": [
       "<Figure size 640x480 with 1 Axes>"
      ]
     },
     "metadata": {},
     "output_type": "display_data"
    }
   ],
   "source": [
    "qtd = 10\n",
    "plt.barh(list(dic_key.keys())[-qtd:],list(dic_key.values())[-qtd:],color='purple')\n",
    "plt.title(f'{qtd} palavras mais recorrentes nas keywords')\n",
    "plt.show()"
   ]
  },
  {
   "cell_type": "markdown",
   "id": "120bfbe0-6c6a-41fc-bf71-e5de0731a147",
   "metadata": {},
   "source": [
    "#### Aula 2"
   ]
  },
  {
   "cell_type": "markdown",
   "id": "a3e3fd9a-9909-436a-b3c2-6cd2c5caf2bc",
   "metadata": {
    "tags": []
   },
   "source": [
    "#####  Extração dos valores em ms"
   ]
  },
  {
   "cell_type": "code",
   "execution_count": 6,
   "id": "92c072e1-ee5b-4240-a0e3-76ab12e6ef13",
   "metadata": {},
   "outputs": [],
   "source": [
    "import spacy\n",
    "nlp = spacy.load('en_core_web_sm')"
   ]
  },
  {
   "cell_type": "code",
   "execution_count": 26,
   "id": "c32b9465-2ebb-41e4-b1f8-8a338ff45382",
   "metadata": {
    "tags": []
   },
   "outputs": [],
   "source": [
    "limite = 20\n",
    "count = 0\n",
    "lista_vals,abs_vals = [],[]\n",
    "\n",
    "for abs_index,abstract in enumerate(df['Abstract']):\n",
    "        \n",
    "    if not isinstance(abstract,float):\n",
    "        if ' ms ' in abstract:\n",
    "            \n",
    "            doc = nlp(abstract)\n",
    "            # doc = [t for t in doc if not t.is_stop]            \n",
    "            \n",
    "            ms_indexes = []\n",
    "            for t in doc:\n",
    "                if t.text=='ms':\n",
    "                    ms_indexes.append(t.i)\n",
    "                    count+=1\n",
    "                    \n",
    "            for ms_index in ms_indexes:\n",
    "                doc_aux = doc[ms_index-5:ms_index+5]\n",
    "                doc_aux = nlp(str(doc_aux))\n",
    "                \n",
    "                # print(doc_aux)\n",
    "                for t in doc_aux:\n",
    "                    if t.text=='ms':\n",
    "                        check_index = 1\n",
    "                        vals = []\n",
    "                        while True:\n",
    "                            if doc_aux[t.i-check_index].like_num:\n",
    "                                vals.append(str(doc_aux[t.i-check_index]))\n",
    "                                check_index+=1\n",
    "                            elif str(doc_aux[t.i-check_index]) == '/-' or str(doc_aux[t.i-check_index]) == '+' or str(doc_aux[t.i-check_index]) == '-' or str(doc_aux[t.i-check_index]) == 'and' or str(doc_aux[t.i-check_index]) == 'to':\n",
    "                                vals.append(str(doc_aux[t.i-check_index]))\n",
    "                                check_index+=1\n",
    "                            else:\n",
    "                                break\n",
    "                        if len(vals) != 0:\n",
    "                            lista_vals.append(vals[::-1])\n",
    "                            abs_vals.append([abs_index,vals[::-1],doc_aux])\n",
    "        \n",
    "        if ' millisecond ' in abstract:\n",
    "            \n",
    "            doc = nlp(abstract)\n",
    "            # doc = [t for t in doc if not t.is_stop]            \n",
    "            \n",
    "            ms_indexes = []\n",
    "            for t in doc:\n",
    "                if t.text=='millisecond':\n",
    "                    ms_indexes.append(t.i)\n",
    "                    count+=1\n",
    "                    \n",
    "            for ms_index in ms_indexes:\n",
    "                doc_aux = doc[ms_index-5:ms_index+5]\n",
    "                doc_aux = nlp(str(doc_aux))\n",
    "                \n",
    "                # print(doc_aux)\n",
    "                for t in doc_aux:\n",
    "                    if t.text=='millisecond':\n",
    "                        check_index = 1\n",
    "                        vals = []\n",
    "                        while True:\n",
    "                            if doc_aux[t.i-check_index].like_num:\n",
    "                                vals.append(str(doc_aux[t.i-check_index]))\n",
    "                                check_index+=1\n",
    "                            elif str(doc_aux[t.i-check_index]) == '/-' or str(doc_aux[t.i-check_index]) == '+' or str(doc_aux[t.i-check_index]) == '-' or str(doc_aux[t.i-check_index]) == 'and' or str(doc_aux[t.i-check_index]) == 'to':\n",
    "                                vals.append(str(doc_aux[t.i-check_index]))\n",
    "                                check_index+=1\n",
    "                            else:\n",
    "                                break\n",
    "                        # print(vals[::-1])\n",
    "                        if len(vals) != 0:\n",
    "                            lista_vals.append(vals[::-1])\n",
    "                            abs_vals.append([abs_index,vals[::-1],doc_aux])"
   ]
  },
  {
   "cell_type": "code",
   "execution_count": 8,
   "id": "2aad5488-cbe4-4ff0-9100-bb77650ca18c",
   "metadata": {},
   "outputs": [],
   "source": [
    "inf,sup = [],[]\n",
    "\n",
    "for val in lista_vals:\n",
    "    if 'and' not in val and 'to' not in val:\n",
    "        \n",
    "        if '+' in val and '/-' in val:\n",
    "            if val[0] != '+':\n",
    "                # print(val[0],'+/-',val[-1])\n",
    "                \n",
    "                if ',' in val[0]:\n",
    "                    val[0] = val[0].replace(',','.')\n",
    "                \n",
    "                if ',' in val[-1]:\n",
    "                    val[-1] = val[-1].replace(',','.')\n",
    "                    \n",
    "                inf.append(round(float(val[0])-float(val[-1]),4))\n",
    "                sup.append(round(float(val[0])+float(val[-1]),4))\n",
    "                \n",
    "                # print(f'inf {float(val[0])-float(val[-1])}')\n",
    "                # print(f'sup {float(val[0])+float(val[-1])}')\n",
    "            # print()\n",
    "            \n",
    "        # elif '-' in val:\n",
    "            # print(val)"
   ]
  },
  {
   "cell_type": "code",
   "execution_count": 9,
   "id": "e8d4dc52-70f7-4307-90d2-ee1b5b89a55b",
   "metadata": {},
   "outputs": [
    {
     "name": "stdout",
     "output_type": "stream",
     "text": [
      "Contagem de ocorrências 348\n"
     ]
    }
   ],
   "source": [
    "print('Contagem de ocorrências',count)"
   ]
  },
  {
   "cell_type": "code",
   "execution_count": 10,
   "id": "2fcfc247-edaf-4eb9-958a-78c197cc9316",
   "metadata": {},
   "outputs": [
    {
     "data": {
      "image/png": "[encoded data removed]",
      "text/plain": [
       "<Figure size 640x480 with 1 Axes>"
      ]
     },
     "metadata": {},
     "output_type": "display_data"
    },
    {
     "data": {
      "image/png": "[encoded data removed]",
      "text/plain": [
       "<Figure size 640x480 with 1 Axes>"
      ]
     },
     "metadata": {},
     "output_type": "display_data"
    }
   ],
   "source": [
    "plt.hist(inf,bins=100,density=True)\n",
    "plt.show()\n",
    "plt.hist(inf,bins=500,density=True)\n",
    "plt.xlim(0,10)\n",
    "plt.show()"
   ]
  },
  {
   "cell_type": "code",
   "execution_count": 11,
   "id": "2290df64-5114-41d1-89a9-87703cf19691",
   "metadata": {},
   "outputs": [
    {
     "data": {
      "image/png": "[encoded data removed]",
      "text/plain": [
       "<Figure size 640x480 with 1 Axes>"
      ]
     },
     "metadata": {},
     "output_type": "display_data"
    },
    {
     "data": {
      "image/png": "[encoded data removed]",
      "text/plain": [
       "<Figure size 640x480 with 1 Axes>"
      ]
     },
     "metadata": {},
     "output_type": "display_data"
    }
   ],
   "source": [
    "plt.hist(sup,bins=100,density=True)\n",
    "plt.show()\n",
    "plt.hist(sup,bins=500,density=True)\n",
    "plt.xlim(0,10)\n",
    "plt.show()"
   ]
  },
  {
   "cell_type": "markdown",
   "id": "3814cbd9-9503-4240-800d-9672765a8ec6",
   "metadata": {
    "jp-MarkdownHeadingCollapsed": true,
    "tags": []
   },
   "source": [
    "##### NER"
   ]
  },
  {
   "cell_type": "code",
   "execution_count": 12,
   "id": "273c1fe6-8119-410d-bd06-206d0cc238bd",
   "metadata": {},
   "outputs": [],
   "source": [
    "for ms_index in ms_indexes:\n",
    "    doc_aux = doc[ms_index-9:ms_index+7]\n",
    "    doc_aux = nlp(str(doc_aux))"
   ]
  },
  {
   "cell_type": "code",
   "execution_count": 13,
   "id": "afbf869e-6ae4-4218-80bf-5ca0dbd6a592",
   "metadata": {},
   "outputs": [],
   "source": [
    "doc = nlp(doc_aux)"
   ]
  },
  {
   "cell_type": "code",
   "execution_count": 14,
   "id": "59305ea5-9070-4356-ac31-e83509ebed9a",
   "metadata": {},
   "outputs": [
    {
     "data": {
      "text/plain": [
       "Fast spikes spontaneously fired last 2.8 +/- 0.6 ms (mean +/- S.D.)"
      ]
     },
     "execution_count": 14,
     "metadata": {},
     "output_type": "execute_result"
    }
   ],
   "source": [
    "doc"
   ]
  },
  {
   "cell_type": "code",
   "execution_count": 15,
   "id": "d85f7136-b0de-48af-8ae2-170b1d671898",
   "metadata": {},
   "outputs": [
    {
     "data": {
      "text/plain": [
       "[('Fast', ''),\n",
       " ('spikes', ''),\n",
       " ('spontaneously', ''),\n",
       " ('fired', ''),\n",
       " ('last', 'DATE'),\n",
       " ('2.8', 'DATE'),\n",
       " ('+', 'DATE'),\n",
       " ('/-', ''),\n",
       " ('0.6', 'CARDINAL'),\n",
       " ('ms', ''),\n",
       " ('(', ''),\n",
       " ('mean', ''),\n",
       " ('+', ''),\n",
       " ('/-', ''),\n",
       " ('S.D.', ''),\n",
       " (')', '')]"
      ]
     },
     "execution_count": 15,
     "metadata": {},
     "output_type": "execute_result"
    }
   ],
   "source": [
    "[(t.text, t.ent_type_) for t in doc]"
   ]
  },
  {
   "cell_type": "code",
   "execution_count": 16,
   "id": "d1e3b12e-b67f-4aa5-9229-0e8639f850aa",
   "metadata": {},
   "outputs": [
    {
     "data": {
      "text/html": [
       "<span class=\"tex2jax_ignore\"><div class=\"entities\" style=\"line-height: 2.5; direction: ltr\">Fast spikes spontaneously fired \n",
       "<mark class=\"entity\" style=\"background: #bfe1d9; padding: 0.45em 0.6em; margin: 0 0.25em; line-height: 1; border-radius: 0.35em;\">\n",
       "    last 2.8 +\n",
       "    <span style=\"font-size: 0.8em; font-weight: bold; line-height: 1; border-radius: 0.35em; vertical-align: middle; margin-left: 0.5rem\">DATE</span>\n",
       "</mark>\n",
       "/- \n",
       "<mark class=\"entity\" style=\"background: #e4e7d2; padding: 0.45em 0.6em; margin: 0 0.25em; line-height: 1; border-radius: 0.35em;\">\n",
       "    0.6\n",
       "    <span style=\"font-size: 0.8em; font-weight: bold; line-height: 1; border-radius: 0.35em; vertical-align: middle; margin-left: 0.5rem\">CARDINAL</span>\n",
       "</mark>\n",
       " ms (mean +/- S.D.)</div></span>"
      ],
      "text/plain": [
       "<IPython.core.display.HTML object>"
      ]
     },
     "metadata": {},
     "output_type": "display_data"
    }
   ],
   "source": [
    "from spacy import displacy\n",
    "displacy.render(doc, style='ent', jupyter=True)"
   ]
  },
  {
   "cell_type": "code",
   "execution_count": 17,
   "id": "eff41197-56e3-41a9-b996-803e8f427683",
   "metadata": {},
   "outputs": [
    {
     "data": {
      "text/html": [
       "<span class=\"tex2jax_ignore\"><svg xmlns=\"http://www.w3.org/2000/svg\" xmlns:xlink=\"http://www.w3.org/1999/xlink\" xml:lang=\"en\" id=\"14230cf0f4a74db5a9806e89d114ea33-0\" class=\"displacy\" width=\"2150\" height=\"399.5\" direction=\"ltr\" style=\"max-width: none; height: 399.5px; color: #000000; background: #ffffff; font-family: Arial; direction: ltr\">\n",
       "<text class=\"displacy-token\" fill=\"currentColor\" text-anchor=\"middle\" y=\"309.5\">\n",
       "    <tspan class=\"displacy-word\" fill=\"currentColor\" x=\"50\">Fast</tspan>\n",
       "    <tspan class=\"displacy-tag\" dy=\"2em\" fill=\"currentColor\" x=\"50\">ADJ</tspan>\n",
       "</text>\n",
       "\n",
       "<text class=\"displacy-token\" fill=\"currentColor\" text-anchor=\"middle\" y=\"309.5\">\n",
       "    <tspan class=\"displacy-word\" fill=\"currentColor\" x=\"225\">spikes</tspan>\n",
       "    <tspan class=\"displacy-tag\" dy=\"2em\" fill=\"currentColor\" x=\"225\">NOUN</tspan>\n",
       "</text>\n",
       "\n",
       "<text class=\"displacy-token\" fill=\"currentColor\" text-anchor=\"middle\" y=\"309.5\">\n",
       "    <tspan class=\"displacy-word\" fill=\"currentColor\" x=\"400\">spontaneously</tspan>\n",
       "    <tspan class=\"displacy-tag\" dy=\"2em\" fill=\"currentColor\" x=\"400\">ADV</tspan>\n",
       "</text>\n",
       "\n",
       "<text class=\"displacy-token\" fill=\"currentColor\" text-anchor=\"middle\" y=\"309.5\">\n",
       "    <tspan class=\"displacy-word\" fill=\"currentColor\" x=\"575\">fired</tspan>\n",
       "    <tspan class=\"displacy-tag\" dy=\"2em\" fill=\"currentColor\" x=\"575\">VERB</tspan>\n",
       "</text>\n",
       "\n",
       "<text class=\"displacy-token\" fill=\"currentColor\" text-anchor=\"middle\" y=\"309.5\">\n",
       "    <tspan class=\"displacy-word\" fill=\"currentColor\" x=\"750\">last</tspan>\n",
       "    <tspan class=\"displacy-tag\" dy=\"2em\" fill=\"currentColor\" x=\"750\">ADJ</tspan>\n",
       "</text>\n",
       "\n",
       "<text class=\"displacy-token\" fill=\"currentColor\" text-anchor=\"middle\" y=\"309.5\">\n",
       "    <tspan class=\"displacy-word\" fill=\"currentColor\" x=\"925\">2.8</tspan>\n",
       "    <tspan class=\"displacy-tag\" dy=\"2em\" fill=\"currentColor\" x=\"925\">NUM</tspan>\n",
       "</text>\n",
       "\n",
       "<text class=\"displacy-token\" fill=\"currentColor\" text-anchor=\"middle\" y=\"309.5\">\n",
       "    <tspan class=\"displacy-word\" fill=\"currentColor\" x=\"1100\">+/-</tspan>\n",
       "    <tspan class=\"displacy-tag\" dy=\"2em\" fill=\"currentColor\" x=\"1100\">NUM</tspan>\n",
       "</text>\n",
       "\n",
       "<text class=\"displacy-token\" fill=\"currentColor\" text-anchor=\"middle\" y=\"309.5\">\n",
       "    <tspan class=\"displacy-word\" fill=\"currentColor\" x=\"1275\">0.6</tspan>\n",
       "    <tspan class=\"displacy-tag\" dy=\"2em\" fill=\"currentColor\" x=\"1275\">NUM</tspan>\n",
       "</text>\n",
       "\n",
       "<text class=\"displacy-token\" fill=\"currentColor\" text-anchor=\"middle\" y=\"309.5\">\n",
       "    <tspan class=\"displacy-word\" fill=\"currentColor\" x=\"1450\">ms (</tspan>\n",
       "    <tspan class=\"displacy-tag\" dy=\"2em\" fill=\"currentColor\" x=\"1450\">PROPN</tspan>\n",
       "</text>\n",
       "\n",
       "<text class=\"displacy-token\" fill=\"currentColor\" text-anchor=\"middle\" y=\"309.5\">\n",
       "    <tspan class=\"displacy-word\" fill=\"currentColor\" x=\"1625\">mean</tspan>\n",
       "    <tspan class=\"displacy-tag\" dy=\"2em\" fill=\"currentColor\" x=\"1625\">VERB</tspan>\n",
       "</text>\n",
       "\n",
       "<text class=\"displacy-token\" fill=\"currentColor\" text-anchor=\"middle\" y=\"309.5\">\n",
       "    <tspan class=\"displacy-word\" fill=\"currentColor\" x=\"1800\">+/-</tspan>\n",
       "    <tspan class=\"displacy-tag\" dy=\"2em\" fill=\"currentColor\" x=\"1800\">PROPN</tspan>\n",
       "</text>\n",
       "\n",
       "<text class=\"displacy-token\" fill=\"currentColor\" text-anchor=\"middle\" y=\"309.5\">\n",
       "    <tspan class=\"displacy-word\" fill=\"currentColor\" x=\"1975\">S.D.)</tspan>\n",
       "    <tspan class=\"displacy-tag\" dy=\"2em\" fill=\"currentColor\" x=\"1975\">PROPN</tspan>\n",
       "</text>\n",
       "\n",
       "<g class=\"displacy-arrow\">\n",
       "    <path class=\"displacy-arc\" id=\"arrow-14230cf0f4a74db5a9806e89d114ea33-0-0\" stroke-width=\"2px\" d=\"M70,264.5 C70,177.0 215.0,177.0 215.0,264.5\" fill=\"none\" stroke=\"currentColor\"/>\n",
       "    <text dy=\"1.25em\" style=\"font-size: 0.8em; letter-spacing: 1px\">\n",
       "        <textPath xlink:href=\"#arrow-14230cf0f4a74db5a9806e89d114ea33-0-0\" class=\"displacy-label\" startOffset=\"50%\" side=\"left\" fill=\"currentColor\" text-anchor=\"middle\">amod</textPath>\n",
       "    </text>\n",
       "    <path class=\"displacy-arrowhead\" d=\"M70,266.5 L62,254.5 78,254.5\" fill=\"currentColor\"/>\n",
       "</g>\n",
       "\n",
       "<g class=\"displacy-arrow\">\n",
       "    <path class=\"displacy-arc\" id=\"arrow-14230cf0f4a74db5a9806e89d114ea33-0-1\" stroke-width=\"2px\" d=\"M245,264.5 C245,89.5 570.0,89.5 570.0,264.5\" fill=\"none\" stroke=\"currentColor\"/>\n",
       "    <text dy=\"1.25em\" style=\"font-size: 0.8em; letter-spacing: 1px\">\n",
       "        <textPath xlink:href=\"#arrow-14230cf0f4a74db5a9806e89d114ea33-0-1\" class=\"displacy-label\" startOffset=\"50%\" side=\"left\" fill=\"currentColor\" text-anchor=\"middle\">nsubj</textPath>\n",
       "    </text>\n",
       "    <path class=\"displacy-arrowhead\" d=\"M245,266.5 L237,254.5 253,254.5\" fill=\"currentColor\"/>\n",
       "</g>\n",
       "\n",
       "<g class=\"displacy-arrow\">\n",
       "    <path class=\"displacy-arc\" id=\"arrow-14230cf0f4a74db5a9806e89d114ea33-0-2\" stroke-width=\"2px\" d=\"M420,264.5 C420,177.0 565.0,177.0 565.0,264.5\" fill=\"none\" stroke=\"currentColor\"/>\n",
       "    <text dy=\"1.25em\" style=\"font-size: 0.8em; letter-spacing: 1px\">\n",
       "        <textPath xlink:href=\"#arrow-14230cf0f4a74db5a9806e89d114ea33-0-2\" class=\"displacy-label\" startOffset=\"50%\" side=\"left\" fill=\"currentColor\" text-anchor=\"middle\">advmod</textPath>\n",
       "    </text>\n",
       "    <path class=\"displacy-arrowhead\" d=\"M420,266.5 L412,254.5 428,254.5\" fill=\"currentColor\"/>\n",
       "</g>\n",
       "\n",
       "<g class=\"displacy-arrow\">\n",
       "    <path class=\"displacy-arc\" id=\"arrow-14230cf0f4a74db5a9806e89d114ea33-0-3\" stroke-width=\"2px\" d=\"M770,264.5 C770,177.0 915.0,177.0 915.0,264.5\" fill=\"none\" stroke=\"currentColor\"/>\n",
       "    <text dy=\"1.25em\" style=\"font-size: 0.8em; letter-spacing: 1px\">\n",
       "        <textPath xlink:href=\"#arrow-14230cf0f4a74db5a9806e89d114ea33-0-3\" class=\"displacy-label\" startOffset=\"50%\" side=\"left\" fill=\"currentColor\" text-anchor=\"middle\">amod</textPath>\n",
       "    </text>\n",
       "    <path class=\"displacy-arrowhead\" d=\"M770,266.5 L762,254.5 778,254.5\" fill=\"currentColor\"/>\n",
       "</g>\n",
       "\n",
       "<g class=\"displacy-arrow\">\n",
       "    <path class=\"displacy-arc\" id=\"arrow-14230cf0f4a74db5a9806e89d114ea33-0-4\" stroke-width=\"2px\" d=\"M945,264.5 C945,89.5 1445.0,89.5 1445.0,264.5\" fill=\"none\" stroke=\"currentColor\"/>\n",
       "    <text dy=\"1.25em\" style=\"font-size: 0.8em; letter-spacing: 1px\">\n",
       "        <textPath xlink:href=\"#arrow-14230cf0f4a74db5a9806e89d114ea33-0-4\" class=\"displacy-label\" startOffset=\"50%\" side=\"left\" fill=\"currentColor\" text-anchor=\"middle\">nummod</textPath>\n",
       "    </text>\n",
       "    <path class=\"displacy-arrowhead\" d=\"M945,266.5 L937,254.5 953,254.5\" fill=\"currentColor\"/>\n",
       "</g>\n",
       "\n",
       "<g class=\"displacy-arrow\">\n",
       "    <path class=\"displacy-arc\" id=\"arrow-14230cf0f4a74db5a9806e89d114ea33-0-5\" stroke-width=\"2px\" d=\"M945,264.5 C945,177.0 1090.0,177.0 1090.0,264.5\" fill=\"none\" stroke=\"currentColor\"/>\n",
       "    <text dy=\"1.25em\" style=\"font-size: 0.8em; letter-spacing: 1px\">\n",
       "        <textPath xlink:href=\"#arrow-14230cf0f4a74db5a9806e89d114ea33-0-5\" class=\"displacy-label\" startOffset=\"50%\" side=\"left\" fill=\"currentColor\" text-anchor=\"middle\">punct</textPath>\n",
       "    </text>\n",
       "    <path class=\"displacy-arrowhead\" d=\"M1090.0,266.5 L1098.0,254.5 1082.0,254.5\" fill=\"currentColor\"/>\n",
       "</g>\n",
       "\n",
       "<g class=\"displacy-arrow\">\n",
       "    <path class=\"displacy-arc\" id=\"arrow-14230cf0f4a74db5a9806e89d114ea33-0-6\" stroke-width=\"2px\" d=\"M1295,264.5 C1295,177.0 1440.0,177.0 1440.0,264.5\" fill=\"none\" stroke=\"currentColor\"/>\n",
       "    <text dy=\"1.25em\" style=\"font-size: 0.8em; letter-spacing: 1px\">\n",
       "        <textPath xlink:href=\"#arrow-14230cf0f4a74db5a9806e89d114ea33-0-6\" class=\"displacy-label\" startOffset=\"50%\" side=\"left\" fill=\"currentColor\" text-anchor=\"middle\">nummod</textPath>\n",
       "    </text>\n",
       "    <path class=\"displacy-arrowhead\" d=\"M1295,266.5 L1287,254.5 1303,254.5\" fill=\"currentColor\"/>\n",
       "</g>\n",
       "\n",
       "<g class=\"displacy-arrow\">\n",
       "    <path class=\"displacy-arc\" id=\"arrow-14230cf0f4a74db5a9806e89d114ea33-0-7\" stroke-width=\"2px\" d=\"M595,264.5 C595,2.0 1450.0,2.0 1450.0,264.5\" fill=\"none\" stroke=\"currentColor\"/>\n",
       "    <text dy=\"1.25em\" style=\"font-size: 0.8em; letter-spacing: 1px\">\n",
       "        <textPath xlink:href=\"#arrow-14230cf0f4a74db5a9806e89d114ea33-0-7\" class=\"displacy-label\" startOffset=\"50%\" side=\"left\" fill=\"currentColor\" text-anchor=\"middle\">dobj</textPath>\n",
       "    </text>\n",
       "    <path class=\"displacy-arrowhead\" d=\"M1450.0,266.5 L1458.0,254.5 1442.0,254.5\" fill=\"currentColor\"/>\n",
       "</g>\n",
       "\n",
       "<g class=\"displacy-arrow\">\n",
       "    <path class=\"displacy-arc\" id=\"arrow-14230cf0f4a74db5a9806e89d114ea33-0-8\" stroke-width=\"2px\" d=\"M1645,264.5 C1645,89.5 1970.0,89.5 1970.0,264.5\" fill=\"none\" stroke=\"currentColor\"/>\n",
       "    <text dy=\"1.25em\" style=\"font-size: 0.8em; letter-spacing: 1px\">\n",
       "        <textPath xlink:href=\"#arrow-14230cf0f4a74db5a9806e89d114ea33-0-8\" class=\"displacy-label\" startOffset=\"50%\" side=\"left\" fill=\"currentColor\" text-anchor=\"middle\">nmod</textPath>\n",
       "    </text>\n",
       "    <path class=\"displacy-arrowhead\" d=\"M1645,266.5 L1637,254.5 1653,254.5\" fill=\"currentColor\"/>\n",
       "</g>\n",
       "\n",
       "<g class=\"displacy-arrow\">\n",
       "    <path class=\"displacy-arc\" id=\"arrow-14230cf0f4a74db5a9806e89d114ea33-0-9\" stroke-width=\"2px\" d=\"M1820,264.5 C1820,177.0 1965.0,177.0 1965.0,264.5\" fill=\"none\" stroke=\"currentColor\"/>\n",
       "    <text dy=\"1.25em\" style=\"font-size: 0.8em; letter-spacing: 1px\">\n",
       "        <textPath xlink:href=\"#arrow-14230cf0f4a74db5a9806e89d114ea33-0-9\" class=\"displacy-label\" startOffset=\"50%\" side=\"left\" fill=\"currentColor\" text-anchor=\"middle\">nmod</textPath>\n",
       "    </text>\n",
       "    <path class=\"displacy-arrowhead\" d=\"M1820,266.5 L1812,254.5 1828,254.5\" fill=\"currentColor\"/>\n",
       "</g>\n",
       "\n",
       "<g class=\"displacy-arrow\">\n",
       "    <path class=\"displacy-arc\" id=\"arrow-14230cf0f4a74db5a9806e89d114ea33-0-10\" stroke-width=\"2px\" d=\"M1470,264.5 C1470,2.0 1975.0,2.0 1975.0,264.5\" fill=\"none\" stroke=\"currentColor\"/>\n",
       "    <text dy=\"1.25em\" style=\"font-size: 0.8em; letter-spacing: 1px\">\n",
       "        <textPath xlink:href=\"#arrow-14230cf0f4a74db5a9806e89d114ea33-0-10\" class=\"displacy-label\" startOffset=\"50%\" side=\"left\" fill=\"currentColor\" text-anchor=\"middle\">appos</textPath>\n",
       "    </text>\n",
       "    <path class=\"displacy-arrowhead\" d=\"M1975.0,266.5 L1983.0,254.5 1967.0,254.5\" fill=\"currentColor\"/>\n",
       "</g>\n",
       "</svg></span>"
      ],
      "text/plain": [
       "<IPython.core.display.HTML object>"
      ]
     },
     "metadata": {},
     "output_type": "display_data"
    }
   ],
   "source": [
    "displacy.render(doc, style='dep', jupyter=True)"
   ]
  },
  {
   "cell_type": "code",
   "execution_count": 18,
   "id": "dafe2834-48b6-44b2-b5a4-b0474182f50e",
   "metadata": {},
   "outputs": [
    {
     "data": {
      "text/plain": [
       "[('Fast', 'amod'),\n",
       " ('spikes', 'nsubj'),\n",
       " ('spontaneously', 'advmod'),\n",
       " ('fired', 'ROOT'),\n",
       " ('last', 'amod'),\n",
       " ('2.8', 'nummod'),\n",
       " ('+', 'punct'),\n",
       " ('/-', 'punct'),\n",
       " ('0.6', 'nummod'),\n",
       " ('ms', 'dobj'),\n",
       " ('(', 'punct'),\n",
       " ('mean', 'nmod'),\n",
       " ('+', 'nmod'),\n",
       " ('/-', 'punct'),\n",
       " ('S.D.', 'appos'),\n",
       " (')', 'punct')]"
      ]
     },
     "execution_count": 18,
     "metadata": {},
     "output_type": "execute_result"
    }
   ],
   "source": [
    "[(t.text, t.dep_) for t in doc]"
   ]
  },
  {
   "cell_type": "code",
   "execution_count": 19,
   "id": "56f90a45-9227-4ea7-8902-96622d274d30",
   "metadata": {},
   "outputs": [
    {
     "data": {
      "text/plain": [
       "[('Fast', 'amod', 'spikes'),\n",
       " ('spikes', 'nsubj', 'fired'),\n",
       " ('spontaneously', 'advmod', 'fired'),\n",
       " ('fired', 'ROOT', 'fired'),\n",
       " ('last', 'amod', '2.8'),\n",
       " ('2.8', 'nummod', 'ms'),\n",
       " ('+', 'punct', '2.8'),\n",
       " ('/-', 'punct', '2.8'),\n",
       " ('0.6', 'nummod', 'ms'),\n",
       " ('ms', 'dobj', 'fired'),\n",
       " ('(', 'punct', 'ms'),\n",
       " ('mean', 'nmod', 'S.D.'),\n",
       " ('+', 'nmod', 'S.D.'),\n",
       " ('/-', 'punct', 'S.D.'),\n",
       " ('S.D.', 'appos', 'ms'),\n",
       " (')', 'punct', 'ms')]"
      ]
     },
     "execution_count": 19,
     "metadata": {},
     "output_type": "execute_result"
    }
   ],
   "source": [
    "[(t.text, t.dep_, t.head.text) for t in doc]"
   ]
  },
  {
   "cell_type": "markdown",
   "id": "57b2a94c-5d84-4eb6-b889-48764e3f88cc",
   "metadata": {},
   "source": [
    "### Aula 3"
   ]
  },
  {
   "cell_type": "code",
   "execution_count": 30,
   "id": "07fc7210-e2e3-47b5-9e8f-da20ff50a404",
   "metadata": {},
   "outputs": [
    {
     "data": {
      "text/plain": [
       "'In cortical pyramidal neurons, backpropagating action potentials (bAPs) supply Ca2+ to synaptic contacts on dendrites. To determine whether the efficacy of AP backpropagation into apical tuft dendrites is stable over time, we performed dendritic Ca2+ and voltage imaging in rat brain slices. We found that the amplitude of bAP-Ca2+ in apical tuft branches was unstable, given that it varied from trial to trial (termed bAP-Ca2+ flickering). Small perturbations in dendritic physiology, such as spontaneous synaptic inputs, channel inactivation, or temperature-induced changes in channel kinetics, can cause bAP flickering. In the tuft branches, the density of Na+ and K+ channels was sufficient to support local initiation of fast spikelets by glutamate iontophoresis. We quantified the time delay between the somatic AP burst and the peak of dendritic Ca2+ transient in the apical tuft, because this delay is important for induction of spike-timing dependent plasticity. Depending on the frequency of the somatic AP triplets, Ca2+ signals peaked in the apical tuft 20-50 ms after the 1st AP in the soma. Interestingly, at low frequency (<20 Hz), the Ca2+ peaked sooner than at high frequency, because only the 1st AP invaded tuft. Activation of dendritic voltage-gated Ca2+ channels is sensitive to the duration of the dendritic voltage transient. In apical tuft branches, small changes in the duration of bAP voltage waveforms cause disproportionately large increases in dendritic Ca2+ influx (bAP-Ca2+ flickering). The stochastic nature of bAP-Ca2+ adds a new perspective on the mechanisms by which pyramidal neurons combine inputs arriving at different cortical layers. NEW & NOTEWORTHY The bAP-Ca2+ signal amplitudes in some apical tuft branches randomly vary from moment to moment. In repetitive measurements, successful AP invasions are followed by complete failures. Passive spread of voltage from the apical trunk into the tuft occasionally reaches the threshold for local Na+ spike, resulting in stronger Ca2+ influx. During a burst of three somatic APs, the peak of dendritic Ca2+ in the apical tuft occurs with a delay of 20-50 ms depending on AP frequency.'"
      ]
     },
     "execution_count": 30,
     "metadata": {},
     "output_type": "execute_result"
    }
   ],
   "source": [
    "list(df['Abstract'])[1006]"
   ]
  },
  {
   "cell_type": "code",
   "execution_count": null,
   "id": "fd883e02-37ac-4614-95e6-a6b298ea2ab9",
   "metadata": {},
   "outputs": [],
   "source": []
  }
 ],
 "metadata": {
  "kernelspec": {
   "display_name": "Python 3 (ipykernel)",
   "language": "python",
   "name": "python3"
  },
  "language_info": {
   "codemirror_mode": {
    "name": "ipython",
    "version": 3
   },
   "file_extension": ".py",
   "mimetype": "text/x-python",
   "name": "python",
   "nbconvert_exporter": "python",
   "pygments_lexer": "ipython3",
   "version": "3.10.8"
  }
 },
 "nbformat": 4,
 "nbformat_minor": 5
}
