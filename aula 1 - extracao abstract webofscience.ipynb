{
 "cells": [
  {
   "cell_type": "code",
   "execution_count": 6,
   "id": "6ed4ec3a-ffa1-4dc8-b7e1-163db17d1aca",
   "metadata": {},
   "outputs": [],
   "source": [
    "import os\n",
    "import pandas as pd"
   ]
  },
  {
   "cell_type": "code",
   "execution_count": 7,
   "id": "c7155a20-a6d7-4ae0-9ca4-5b7d9ef6c9c8",
   "metadata": {},
   "outputs": [],
   "source": [
    "arqs = os.listdir('aula 1 - dados')"
   ]
  },
  {
   "cell_type": "code",
   "execution_count": 9,
   "id": "e1f99afe-6068-4be7-b89c-0b3c956502cd",
   "metadata": {},
   "outputs": [],
   "source": [
    "for arq in arqs:\n",
    "    df = pd.read_excel(f'aula 1 - dados/{arq}')"
   ]
  },
  {
   "cell_type": "code",
   "execution_count": null,
   "id": "2414967e-92b9-4b37-9cfb-a6c61a223bd9",
   "metadata": {},
   "outputs": [],
   "source": []
  }
 ],
 "metadata": {
  "kernelspec": {
   "display_name": "ilumpy",
   "language": "python",
   "name": "ilumpy"
  },
  "language_info": {
   "codemirror_mode": {
    "name": "ipython",
    "version": 3
   },
   "file_extension": ".py",
   "mimetype": "text/x-python",
   "name": "python",
   "nbconvert_exporter": "python",
   "pygments_lexer": "ipython3",
   "version": "3.10.8"
  }
 },
 "nbformat": 4,
 "nbformat_minor": 5
}
